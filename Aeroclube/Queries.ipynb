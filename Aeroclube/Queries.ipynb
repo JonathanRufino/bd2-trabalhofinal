{
 "cells": [
  {
   "cell_type": "markdown",
   "metadata": {
    "slideshow": {
     "slide_type": "-"
    }
   },
   "source": [
    "<h1 {style=\"text-align:center\"}>Sistema de Aeroclube</h1>\n",
    "\n",
    "----\n",
    "\n",
    "### Laboratório de Banco de Dados 2\n",
    "\n",
    "> Profª. Drª. Edna Dias Canedo\n",
    "\n",
    "### Banco de Dados NoSQL\n",
    "\n",
    "> CouchDB\n",
    "\n",
    "### Grupo\n",
    "\n",
    "> Jonathan Rufino<br>\n",
    "> Laércio Silva<br>\n",
    "> João Saliba<br>\n",
    "\n",
    "### Repositório\n",
    "\n",
    "> https://github.com/JonathanRufino/bd2-trabalhofinal\n",
    "\n",
    "----"
   ]
  },
  {
   "cell_type": "code",
   "execution_count": null,
   "metadata": {
    "collapsed": true
   },
   "outputs": [],
   "source": [
    "import requests\n",
    "import json\n",
    "\n",
    "DB_URL = 'http://127.0.0.1:5984/aeroclube'\n",
    "\n",
    "def print_array(myArray):\n",
    "    for i in myArray:\n",
    "        print(json.dumps(i['value'], indent=2))"
   ]
  },
  {
   "cell_type": "markdown",
   "metadata": {},
   "source": [
    "### Relação de todos os pilotos"
   ]
  },
  {
   "cell_type": "code",
   "execution_count": null,
   "metadata": {
    "collapsed": true
   },
   "outputs": [],
   "source": [
    "pilotos = requests.get('{}/_design/pilotos/_view/listar_pilotos'.format(DB_URL)).json()['rows']\n",
    "print_array(pilotos)"
   ]
  },
  {
   "cell_type": "markdown",
   "metadata": {},
   "source": [
    "### Relação de todos os alunos e números de horas de vôo"
   ]
  },
  {
   "cell_type": "code",
   "execution_count": null,
   "metadata": {
    "collapsed": true
   },
   "outputs": [],
   "source": [
    "alunos = requests.get('{}/_design/alunos/_view/listar_alunos_e_horas_voo'.format(DB_URL)).json()['rows']\n",
    "print_array(alunos)"
   ]
  },
  {
   "cell_type": "markdown",
   "metadata": {},
   "source": [
    "### Relação de todos os instrutores"
   ]
  },
  {
   "cell_type": "code",
   "execution_count": null,
   "metadata": {
    "collapsed": true
   },
   "outputs": [],
   "source": [
    "instrutores = requests.get('{}/_design/instrutores/_view/listar_instrutores'.format(DB_URL)).json()['rows']\n",
    "print_array(instrutores)"
   ]
  },
  {
   "cell_type": "markdown",
   "metadata": {},
   "source": [
    "### Relação de todos os cursos ministrados por um determinado instrutor"
   ]
  },
  {
   "cell_type": "code",
   "execution_count": null,
   "metadata": {
    "collapsed": true,
    "slideshow": {
     "slide_type": "slide"
    }
   },
   "outputs": [],
   "source": [
    "# A key é a chave de um documento do tipo instrutor\n",
    "key = ''\n",
    "cursos = requests.get('{}/_design/instrutores/_view/listar_cursos_instrutor?key=\"{}\"'.format(DB_URL, key)).json()['rows']\n",
    "print_array(cursos)"
   ]
  }
 ],
 "metadata": {
  "kernelspec": {
   "display_name": "Python 3",
   "language": "python",
   "name": "python3"
  },
  "language_info": {
   "codemirror_mode": {
    "name": "ipython",
    "version": 3
   },
   "file_extension": ".py",
   "mimetype": "text/x-python",
   "name": "python",
   "nbconvert_exporter": "python",
   "pygments_lexer": "ipython3",
   "version": "3.5.2"
  }
 },
 "nbformat": 4,
 "nbformat_minor": 2
}
