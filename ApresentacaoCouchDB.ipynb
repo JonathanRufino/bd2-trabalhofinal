{
 "cells": [
  {
   "cell_type": "markdown",
   "metadata": {},
   "source": [
    "# Laboratório de Banco de Dados 2: CouchDB\n",
    "\n",
    "- João Saliba\n",
    "- Jonathan Rufino\n",
    "- Laércio Silva\n",
    "----"
   ]
  },
  {
   "cell_type": "code",
   "execution_count": null,
   "metadata": {
    "collapsed": true
   },
   "outputs": [],
   "source": [
    "# Bibliotecas para realizar requisições HTTP e manipulação de json\n",
    "import requests\n",
    "import json"
   ]
  },
  {
   "cell_type": "markdown",
   "metadata": {},
   "source": [
    "## 1. Acessar API CouchDB"
   ]
  },
  {
   "cell_type": "code",
   "execution_count": null,
   "metadata": {},
   "outputs": [],
   "source": [
    "requests.get('http://127.0.0.1:5984/').json()"
   ]
  },
  {
   "cell_type": "markdown",
   "metadata": {},
   "source": [
    "\n",
    "\n",
    "\n",
    "\n",
    "## 2. Operações com Banco de Dados"
   ]
  },
  {
   "cell_type": "markdown",
   "metadata": {},
   "source": [
    "   ### 2.1 Listar Bancos de Dados"
   ]
  },
  {
   "cell_type": "code",
   "execution_count": null,
   "metadata": {},
   "outputs": [],
   "source": [
    "requests.get('http://127.0.0.1:5984/_all_dbs').json()"
   ]
  },
  {
   "cell_type": "markdown",
   "metadata": {},
   "source": [
    "### 2.2 Criar Banco de Dados"
   ]
  },
  {
   "cell_type": "code",
   "execution_count": null,
   "metadata": {},
   "outputs": [],
   "source": [
    "requests.put('http://127.0.0.1:5984/apresentacao').json()"
   ]
  },
  {
   "cell_type": "markdown",
   "metadata": {},
   "source": [
    "### 2.3 Deletar Banco de Dados"
   ]
  },
  {
   "cell_type": "code",
   "execution_count": null,
   "metadata": {},
   "outputs": [],
   "source": [
    "requests.delete('http://127.0.0.1:5984/apresentacao').json()"
   ]
  },
  {
   "cell_type": "markdown",
   "metadata": {},
   "source": [
    "## 3. Obter 3 UUID's (para criar documentos)"
   ]
  },
  {
   "cell_type": "code",
   "execution_count": null,
   "metadata": {},
   "outputs": [],
   "source": [
    "uuids = requests.get('http://127.0.0.1:5984/_uuids?count=3').json()\n",
    "uuids = uuids['uuids']\n",
    "uuids"
   ]
  },
  {
   "cell_type": "markdown",
   "metadata": {},
   "source": [
    "## 4. Documentos"
   ]
  },
  {
   "cell_type": "markdown",
   "metadata": {},
   "source": [
    "### 4.1 Criar Documentos"
   ]
  },
  {
   "cell_type": "markdown",
   "metadata": {},
   "source": [
    "#### 4.1.1 Filme"
   ]
  },
  {
   "cell_type": "code",
   "execution_count": null,
   "metadata": {},
   "outputs": [],
   "source": [
    "url = 'http://127.0.0.1:5984/apresentacao/{}'.format(uuids[0])\n",
    "\n",
    "filme = {\n",
    "    \"nome\": \"O Grande Herói\",\n",
    "    \"ano_lancamento\": 2013,\n",
    "    \"orcamento\": \"40 mi\",\n",
    "    \"diretor\": uuids[1],\n",
    "    \"atores\": [\n",
    "        uuids[2],\n",
    "    ]\n",
    "}\n",
    "\n",
    "requests.put(url, data=json.dumps(filme)).json()"
   ]
  },
  {
   "cell_type": "markdown",
   "metadata": {},
   "source": [
    "#### 4.1.2 Diretor"
   ]
  },
  {
   "cell_type": "code",
   "execution_count": null,
   "metadata": {},
   "outputs": [],
   "source": [
    "url = 'http://127.0.0.1:5984/apresentacao/{}'.format(uuids[1])\n",
    "\n",
    "diretor = {\n",
    "    \"nome\": \"Peter Berg\",\n",
    "    \"filmes\": [\n",
    "        uuids[0]\n",
    "    ]\n",
    "}\n",
    "\n",
    "requests.put(url, data=json.dumps(diretor)).json()"
   ]
  },
  {
   "cell_type": "markdown",
   "metadata": {},
   "source": [
    "#### 4.1.3 Ator"
   ]
  },
  {
   "cell_type": "code",
   "execution_count": null,
   "metadata": {},
   "outputs": [],
   "source": [
    "url = 'http://127.0.0.1:5984/apresentacao/{}'.format(uuids[2])\n",
    "\n",
    "ator = {\n",
    "    \"nome\": \"Mark Wahlberg\",\n",
    "    \"sexo\": \"Masculino\",\n",
    "    \"filmes\": [\n",
    "        uuids[0]\n",
    "    ]\n",
    "}\n",
    "\n",
    "requests.put(url, data=json.dumps(diretor)).json()"
   ]
  },
  {
   "cell_type": "markdown",
   "metadata": {},
   "source": [
    "### 4.2 Buscar Documento"
   ]
  },
  {
   "cell_type": "code",
   "execution_count": null,
   "metadata": {},
   "outputs": [],
   "source": [
    "url = 'http://127.0.0.1:5984/apresentacao/{}'.format(uuids[0])\n",
    "\n",
    "requests.get(url).json()"
   ]
  }
 ],
 "metadata": {
  "kernelspec": {
   "display_name": "Python 3",
   "language": "python",
   "name": "python3"
  },
  "language_info": {
   "codemirror_mode": {
    "name": "ipython",
    "version": 3
   },
   "file_extension": ".py",
   "mimetype": "text/x-python",
   "name": "python",
   "nbconvert_exporter": "python",
   "pygments_lexer": "ipython3",
   "version": "3.5.2"
  }
 },
 "nbformat": 4,
 "nbformat_minor": 2
}
